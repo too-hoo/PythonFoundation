{
 "cells": [
  {
   "cell_type": "heading",
   "metadata": {},
   "level": 2,
   "source": [
    "# python基础知识总结"
   ]
  },
  {
   "cell_type": "markdown",
   "metadata": {},
   "source": [
    "## 基础语法\n",
    "\n",
    "### 注释\n",
    "### 字符串\n",
    "### 运算符\n",
    "### 变量\n",
    "### 内置函数\n",
    "\n",
    "## 控制流程\n",
    "\n",
    "### if/else\n",
    "### for循环\n",
    "### while\n",
    "### break\n",
    "### pass\n",
    "### continue\n",
    "\n",
    "## 数据结构\n",
    "\n",
    "### 列表list\n",
    "### 元组tuple\n",
    "### 字典dictionary\n",
    "### 集合set\n",
    "\n",
    "## 面向对象\n",
    "\n",
    "### 封装\n",
    "### 继承\n",
    "### 多态\n",
    "\n",
    "## 异常处理\n",
    "\n",
    "## 好用的库\n",
    "### 随机数\n",
    "### 正则表达式"
   ]
  },
  {
   "cell_type": "heading",
   "metadata": {},
   "level": 4,
   "source": [
    "### 注释\n",
    "使用'#' 单行注释\n",
    "\n",
    "使用''' '''或这个\"\"\" \"\"\" 多行注释\n"
   ]
  },
  {
   "cell_type": "markdown",
   "metadata": {},
   "source": [
    "### 字符串"
   ]
  },
  {
   "cell_type": "code",
   "execution_count": 21,
   "metadata": {},
   "outputs": [
    {
     "name": "stdout",
     "output_type": "stream",
     "text": [
      "1 Hello world!\n",
      "2 hello toohoo!\n",
      "3 hello world! \r\n",
      "\n",
      "4 \n",
      "\r",
      "hello world!\n",
      "5 True\n",
      "6 True\n",
      "7 hello world!\n",
      "\r",
      "hello world! \r\n",
      "hello toohoo\n",
      "8 12\n",
      "9 a-b-c\n",
      "10 ['hello', 'toohoo']\n",
      "11 1\n"
     ]
    }
   ],
   "source": [
    "# 将首字母大写\n",
    "stra = 'hello world!'\n",
    "print(1,stra.capitalize())\n",
    "# 替代字符串里面的字符\n",
    "print(2,stra.replace('world','toohoo'))\n",
    "strb = '\\n\\rhello world! \\r\\n'\n",
    "# 分别去掉左边和右边的换行和回车\n",
    "print(3,strb.lstrip())\n",
    "print(4,strb.rstrip())\n",
    "# 判断是否是以某个字符串开头或是结尾\n",
    "strc = 'hello toohoo'\n",
    "print(5,strc.startswith('hel'))\n",
    "print(6,strc.endswith('oo'))\n",
    "# 将字符串进行拼接\n",
    "print(7,stra+strb+strc)\n",
    "# 获取字符串的长度\n",
    "print(8,len(strc))\n",
    "# 将列表中的字符串进行拼接起来\n",
    "print(9,'-'.join(['a','b','c']))\n",
    "# 将字符串使用特定的字符进行分割\n",
    "print(10,strc.split(' '))\n",
    "# 在字符串中寻找子字符串,返回的是第一个找到的index\n",
    "print(11,strc.find('ello'))"
   ]
  },
  {
   "cell_type": "markdown",
   "metadata": {},
   "source": [
    "### 运算符"
   ]
  },
  {
   "cell_type": "code",
   "execution_count": 31,
   "metadata": {},
   "outputs": [
    {
     "name": "stdout",
     "output_type": "stream",
     "text": [
      "1 3 2.5 10 3\n",
      "2 True False\n",
      "3 True True\n",
      "4 2 16\n",
      "5 7 1 6\n",
      "2 3.3 <class 'int'> <class 'float'>\n"
     ]
    }
   ],
   "source": [
    "# 常见的运算符\n",
    "print(1, 1+2, 5/2, 5*2, 5-2)\n",
    "# 布尔运算符True和False的首字母是大写的，not是小写的！\n",
    "print(2, True, not True)\n",
    "print(3,1<2,5>2)\n",
    "# 移位运算,左移大，右移小\n",
    "print(4,16>>3,2<<3)\n",
    "# 或，与，异或\n",
    "print(5,5|3, 5 & 3, 5 ^ 3)\n",
    "# 输出类型\n",
    "x = 2\n",
    "y = 3.3\n",
    "print(x,y,type(x),type(y))"
   ]
  },
  {
   "cell_type": "markdown",
   "metadata": {},
   "source": [
    "### 变量\n",
    "\n",
    "不能以数字和运算符开头，0-9，+-*/等，支持使用下划线开头等，不用定义类型，直接使用变量和名称即可\n",
    "\n",
    "### 内置函数（buildinfunction）"
   ]
  },
  {
   "cell_type": "code",
   "execution_count": 46,
   "metadata": {},
   "outputs": [
    {
     "name": "stdout",
     "output_type": "stream",
     "text": [
      "1 3 1\n",
      "2 3 4\n",
      "3 2\n",
      "4 [1, 2, 3, 4, 5, 6, 7, 8, 9]\n",
      "5 ['__add__', '__class__', '__contains__', '__delattr__', '__delitem__', '__dir__', '__doc__', '__eq__', '__format__', '__ge__', '__getattribute__', '__getitem__', '__gt__', '__hash__', '__iadd__', '__imul__', '__init__', '__init_subclass__', '__iter__', '__le__', '__len__', '__lt__', '__mul__', '__ne__', '__new__', '__reduce__', '__reduce_ex__', '__repr__', '__reversed__', '__rmul__', '__setattr__', '__setitem__', '__sizeof__', '__str__', '__subclasshook__', 'append', 'clear', 'copy', 'count', 'extend', 'index', 'insert', 'pop', 'remove', 'reverse', 'sort']\n",
      "6 5\n",
      "7 A 97\n",
      "8 (3, 2)\n"
     ]
    }
   ],
   "source": [
    "print(1, max(1,3),min(2,1))\n",
    "print(2, len('xxx'), len([1,2,3,4]))\n",
    "print(3, abs(-2)) # fabs, Math.fabs\n",
    "# 需要强转一下\n",
    "lista = list(range(1,10))\n",
    "print(4, lista)\n",
    "# 输出list数据结构下面的函数方法\n",
    "print(5, dir(list))\n",
    "# 内置代码运行函数\n",
    "x = 2\n",
    "print(6, eval('x + 3'))\n",
    "# 使用ASCII码转换函数\n",
    "print(7,chr(65), ord('a'))\n",
    "# divmod() 函数把除数和余数运算结果结合起来，返回一个包含商和余数的元组(a // b, a % b)\n",
    "print(8,divmod(11,3))"
   ]
  },
  {
   "cell_type": "markdown",
   "metadata": {},
   "source": [
    "## 控制流程(controlflow)"
   ]
  },
  {
   "cell_type": "code",
   "execution_count": 53,
   "metadata": {},
   "outputs": [
    {
     "name": "stdout",
     "output_type": "stream",
     "text": [
      "2 B\n",
      "4 65\n",
      "4 75\n",
      "4 85\n",
      "4 95\n",
      "6 6\n"
     ]
    }
   ],
   "source": [
    "# if else 语句\n",
    "score = 65\n",
    "if score > 99:\n",
    "    print(1, 'A')\n",
    "elif score > 60:\n",
    "    print(2, 'B')\n",
    "else:\n",
    "    print(3, 'C')\n",
    "\n",
    "# while流程控制\n",
    "while score < 100:\n",
    "    print(4, score)\n",
    "    score += 10\n",
    "score = 65\n",
    "\n",
    "# for 循环\n",
    "# for(int i = 0; i < 10; ++i)\n",
    "# continue, break, pass\n",
    "for i in range(0, 10, 2):\n",
    "    if i == 0:\n",
    "        pass # do_special\n",
    "        # print(5, i)\n",
    "    # 5之前的数字不输出\n",
    "    if i <= 5:\n",
    "        continue\n",
    "    print(6, i)\n",
    "    if i == 6:\n",
    "        break"
   ]
  },
  {
   "cell_type": "markdown",
   "metadata": {},
   "source": [
    "## 数据结构\n",
    "\n",
    "### 列表list + 元组tuple"
   ]
  },
  {
   "cell_type": "code",
   "execution_count": 81,
   "metadata": {},
   "outputs": [
    {
     "name": "stdout",
     "output_type": "stream",
     "text": [
      "1 [1, 2, 3]\n",
      "2 ['a', 1, 'c', 1.1]\n",
      "3 [1, 2, 3, 'a', 1, 'c', 1.1]\n",
      "4 7\n",
      "5 True\n",
      "6 [1, 2, 3, 'a', 1, 'c', 1.1, 'a', 1, 'c', 1.1]\n",
      "7 ['www', 'a', 1, 'c', 1.1]\n",
      "8 ['www', 1, 'c', 1.1]\n",
      "9 [1.1, 'c', 1, 'www']\n",
      "10 1.1 1\n",
      "11 [1, 1.1]\n",
      "12 [1.1, 1]\n",
      "13 [1.1, 1, 1.1, 1]\n",
      "14 [0, 0, 0, 0, 0, 0, 0, 0, 0, 0, 0, 0, 0, 0]\n",
      "15 [1, 2, 3, 4]\n"
     ]
    }
   ],
   "source": [
    "lista = [1,2,3] # vector<int> ArrayList\n",
    "print(1, lista)\n",
    "# 里面的数据是可以任意的\n",
    "listb = ['a', 1, 'c', 1.1]\n",
    "print(2, listb)\n",
    "# 扩展\n",
    "lista.extend(listb)\n",
    "print(3, lista)\n",
    "print(4, len(lista))\n",
    "# 判断是否是列表里面的元素和列表相加\n",
    "print(5, 'a' in lista)\n",
    "lista = lista + listb\n",
    "print(6, lista)\n",
    "listb.insert(0, 'www')# 插入开头\n",
    "print(7, listb)\n",
    "listb.pop(1) # 弹出第一个元素\"a\"\n",
    "print(8, listb)\n",
    "# 反转列表b\n",
    "listb.reverse()\n",
    "print(9, listb)\n",
    "listb.pop(1)\n",
    "listb.pop(2)\n",
    "print(10, listb[0], listb[1])\n",
    "# 对列表b进行排序\n",
    "listb.sort()\n",
    "print(11, listb)\n",
    "listb.sort(reverse = True)\n",
    "print(12, listb)\n",
    "# 元素扩容一倍\n",
    "print(13, listb * 2)\n",
    "print(14, [0]*14) # memset(src, 0, len)\n",
    "# 元组不可改变\n",
    "tuplea = (1, 2, 3)\n",
    "listaa = [1, 2, 3]\n",
    "listaa.append(4)\n",
    "print(15, listaa)"
   ]
  },
  {
   "cell_type": "markdown",
   "metadata": {},
   "source": [
    "### 字典dictionary"
   ]
  },
  {
   "cell_type": "code",
   "execution_count": 99,
   "metadata": {},
   "outputs": [
    {
     "name": "stdout",
     "output_type": "stream",
     "text": [
      "1 {4: 16, 1: 1, 2: 4, 3: 9}\n",
      "2 dict_keys([4, 1, 2, 3]) dict_values([16, 1, 4, 9])\n",
      "3 True False\n",
      "key-value: 4 16\n",
      "key-value: 1 1\n",
      "key-value: 2 4\n",
      "key-value: 3 9\n",
      "4 3\n",
      "5 12\n",
      "{'+': <function add at 0x7fcea277aa60>, '-': <function sub at 0x7fcea277ad08>, '*': 'x'}\n",
      "6 {1: 1, 2: 4, 3: 9}\n",
      "7 {1: 1, 2: 4, 3: 9}\n"
     ]
    }
   ],
   "source": [
    "def add(a,b):\n",
    "    return a + b\n",
    "\n",
    "def sub(a,b):\n",
    "    return a - b\n",
    "\n",
    "dicta = {4:16, 1:1, 2:4, 3:9}\n",
    "print(1, dicta)\n",
    "print(2, dicta.keys(), dicta.values())\n",
    "# python3中没有属性has_key，使用__contains__代替， 可以使用print(dir(dict))查看dict里面的方法属性\n",
    "print(3, dicta.__contains__(1), dicta.__contains__('3'))\n",
    "# 类似于 for map<int, int>::iterator it = x.begin(); it != x.end()\n",
    "for key, value in dicta.items():\n",
    "    print('key-value:', key, value)\n",
    "# 使用对应的键值对，调用上面已经定义好的方法\n",
    "dictb = {'+':add, '-':sub}\n",
    "print(4, dictb['+'](1,2))\n",
    "print(5, dictb['-'](15,3))\n",
    "# 往字典中添加键值对，并输出对应的内容\n",
    "dictb['*'] = 'x'\n",
    "print(dictb)\n",
    "# 弹出键为4的那个键值对\n",
    "dicta.pop(4)\n",
    "print(6, dicta)\n",
    "# python3 不支持使用del删除键为1的键值对#del dict[1]会报错\n",
    "print(7, dicta)"
   ]
  },
  {
   "cell_type": "markdown",
   "metadata": {},
   "source": [
    "### 集合"
   ]
  },
  {
   "cell_type": "code",
   "execution_count": 111,
   "metadata": {},
   "outputs": [
    {
     "name": "stdout",
     "output_type": "stream",
     "text": [
      "1 {1, 2, 3}\n",
      "2 {2, 3, 4}\n",
      "3 {2, 3} {2, 3}\n",
      "4 {1, 2, 3, 4} {1, 2, 3, 4}\n",
      "5 {1}\n",
      "6 {1, 2, 3, 'x'}\n",
      "7 4\n",
      "8 False\n"
     ]
    }
   ],
   "source": [
    "lista = [1,2,3]\n",
    "# 将列表和元组转换成为集合\n",
    "seta = set(lista)\n",
    "setb = set((2,3,4))\n",
    "print(1, seta)\n",
    "print(2, setb)\n",
    "# 对seta和setb求交集和进行与运算\n",
    "print(3, seta.intersection(setb), seta & setb)\n",
    "# 对seta和setb求并集和进行union联合操作\n",
    "print(4, seta | setb, seta.union(setb))\n",
    "# 集合相减\n",
    "print(5, seta - setb)\n",
    "seta.add('x')\n",
    "print(6, seta)\n",
    "print(7, len(seta))\n",
    "# 用于判断两个集合是否包含相同的元素，如果没有返回True，否则返回False(一个列表一个元组，所有返回False)\n",
    "print(8, seta.isdisjoint(set((1,2))))"
   ]
  },
  {
   "cell_type": "markdown",
   "metadata": {},
   "source": [
    "## 面向对象\n",
    "\n",
    "### 封装\n",
    "### 继承\n",
    "### 多态"
   ]
  },
  {
   "cell_type": "code",
   "execution_count": 120,
   "metadata": {},
   "outputs": [
    {
     "name": "stdout",
     "output_type": "stream",
     "text": [
      "im u1 1\n",
      "im a1 101 g1\n",
      "im guest:gu1 201\n"
     ]
    }
   ],
   "source": [
    "class User:\n",
    "    type = 'USER'\n",
    "    \n",
    "    def __init__(self, name, uid):\n",
    "        self.name = name\n",
    "        self.uid = uid\n",
    "    \n",
    "    #  默认的输出方法\n",
    "    def __repr__(self):\n",
    "        return 'im ' + self.name +' '+ str(self.uid)\n",
    "\n",
    "class Guest(User):\n",
    "    #  默认的输出方法\n",
    "    def __repr__(self):\n",
    "        return 'im guest:' + self.name +' '+  str(self.uid)\n",
    "\n",
    "class Admin(User):\n",
    "    type = 'ADMIN'\n",
    "    \n",
    "    # 继承USER，同时封装一个属性group\n",
    "    def __init__(self, name, uid, group):\n",
    "        User.__init__(self, name, uid)\n",
    "        self.group = group\n",
    "    \n",
    "    #  默认的输出方法\n",
    "    def __repr__(self):\n",
    "        return 'im ' + self.name +' '+ str(self.uid) + ' ' + self.group\n",
    "    \n",
    "def create_user(type):\n",
    "    if type == 'USER':\n",
    "        return User('u1',1)\n",
    "    elif type == 'ADMIN':\n",
    "        return Admin('a1', 101, 'g1')\n",
    "    else:\n",
    "        return Guest('gu1',201)\n",
    "        # raise ValueError('error')\n",
    "        \n",
    "if __name__ == '__main__':\n",
    "    USER = 'USERX'\n",
    "    user1 = User('u1',1)\n",
    "    print(user1)\n",
    "    admin1 = Admin('a1', 101, 'g1')\n",
    "    print(admin1)\n",
    "    print(create_user(USER))\n"
   ]
  },
  {
   "cell_type": "markdown",
   "metadata": {},
   "source": [
    "## 异常处理"
   ]
  },
  {
   "cell_type": "code",
   "execution_count": 123,
   "metadata": {},
   "outputs": [
    {
     "name": "stdout",
     "output_type": "stream",
     "text": [
      "2.0\n",
      "error: division by zero\n",
      "clean up\n"
     ]
    }
   ],
   "source": [
    "try:\n",
    "    print(2/1)\n",
    "    print(2/0)\n",
    "    # if type == 'c':\n",
    "    #raise Exception('Raise Error', 'TooHoo') # 主动抛出异常，后面也能够接收\n",
    "except Exception as e:\n",
    "    print('error:',e)\n",
    "finally:\n",
    "    print('clean up')"
   ]
  },
  {
   "cell_type": "markdown",
   "metadata": {},
   "source": [
    "## 好用的库\n",
    "### 随机数"
   ]
  },
  {
   "cell_type": "code",
   "execution_count": 142,
   "metadata": {},
   "outputs": [
    {
     "name": "stdout",
     "output_type": "stream",
     "text": [
      "1 61\n",
      "2 182\n",
      "3 40\n",
      "4 [12, 18, 40, 35]\n",
      "5 [2, 5, 4, 1, 3]\n"
     ]
    }
   ],
   "source": [
    "import random\n",
    "# 1-100范围\n",
    "# random.seed(1) # 随机种子，限定是否随机和随机序列\n",
    "# x = presx * 1000007 % xxxx\n",
    "# prex = x 等幂性\n",
    "print(1, int(random.random()*100))\n",
    "print(2, random.randint(0,200))\n",
    "print(3, random.choice(range(0,100,10)))\n",
    "# 随机在0-100里面选出4个数\n",
    "print(4, random.sample(range(0,100),4))\n",
    "# 数字描述shuffle() 方法将序列的所有元素随机排序\n",
    "a = [1, 2, 3, 4, 5]\n",
    "random.shuffle(a)\n",
    "print(5,a)"
   ]
  },
  {
   "cell_type": "markdown",
   "metadata": {},
   "source": [
    "### 正则表达式"
   ]
  },
  {
   "cell_type": "markdown",
   "metadata": {},
   "source": [
    "特殊字符的含义:\n",
    "\n",
    "|实例|描述|\n",
    "|--|--|\n",
    "|.|匹配\"\\n\"之外的任何的单个字符。要匹配包括'\\n'在内的任何字符，可以使用'[.\\n]'的模式。|\n",
    "|\\d|匹配一个数字字符。等价于[0-9].|\n",
    "|\\D|匹配一个非数字的字符。等价于[^0-9].|\n",
    "|\\s|匹配任何空白的字符，包括空格、制表符、换页符等等。等价于[\\f\\n\\r\\t\\v]。|\n",
    "|\\S|匹配任何的非空白的字符。等价于[^\\f\\n\\r\\t\\v]|\n",
    "|\\w|匹配包括下划线的任何单词字符。等价于[A-Za-z0-9_]|\n",
    "|\\W|匹配任何非单词字符。等价于[^A-Za-z0-9_]。|\n",
    "\n",
    "正则表达式模式\n",
    "模式字符串使用特殊的语法来表示一个正则表达式：\n",
    "\n",
    "|模式|描述|\n",
    "|--|--|\n",
    "|^|匹配字符串的开头|\n",
    "|$|匹配字符串的结尾|\n",
    "|[...]|用来表示一组字符串，单独列出：[amk]匹配'a','m'或'k'|\n",
    "|[^...]|不在[]中的字符：例如[^abc]匹配除了a,b,c之外的字符|\n",
    "|re*|匹配0个或者多个的表达式，注意这里的re表示的是前面的字符串，改成ab*也是可以的|\n",
    "|re+|匹配1个或者多个的表达式|\n",
    "|re?|匹配0个或者1个由前面的正则表达式定义的片段，非贪婪方式|\n",
    "|re{n}|匹配n个前面表达式。例如，\"o{2}\"不能匹配\"Bob\"中的\"o\",但是匹配\"food\"中的两个o。|\n",
    "|re{n,}|精确匹配n个前面的表达式。例如，\"o{2,}\"不能匹配\"Bob\"中的\"o\",但是能匹配\"foooood\"中的所有的o。\"o{1,}\"等价于\"o+\"。\"o{0,}\"则等价于\"o*\"。|\n",
    "|re{n,m}|匹配n到m次由前面的正则表达式定义的片段，贪婪方式|\n",
    "|a|b|匹配a或者b|\n",
    "|(re)|匹配括号内的表达式，也表示一个组|\n",
    "|(?imx)|正则表达式包含三种可选标志：i,m或者x。只影响括号中的区域。|\n",
    "|(?-imx)|正则表达式关闭i,m或x可选标志。只影响括号中的区域。|\n",
    "|(?:re)|类似(...),但是不表示一个组|\n",
    "|(?imx:re)|在括号中使用i,m或者x可选标志|\n",
    "|(?-imx:re)|在括号中不使用i,m或者x可选标志|\n",
    "|?#...|注释.|\n",
    "|(?=re)|前向肯定界定符。如果所含正则表达式，以...表示，在当前位置成功匹配时成功，否则失败。但是一旦所含表达式已经尝试，匹配引擎根本没有提高，模式的剩余部分还要尝试界定符的右边。|\n",
    "|(?!re)|前向否定界定符。与肯定界定符相反；当所含表达式不能在字符串当前位置匹配时成功。|\n",
    "|(?>re)|匹配的独立模式，省去回溯|"
   ]
  },
  {
   "cell_type": "code",
   "execution_count": 11,
   "metadata": {},
   "outputs": [
    {
     "name": "stdout",
     "output_type": "stream",
     "text": [
      "1 ['123', '12', '15']\n",
      "2 ['1', '2', '3', '1', '2', '1', '5']\n",
      "3 ['a@163.com', 'c@qq.com', 'e0@163.com', 'z@qq.com']\n",
      "4 ['<h>title</h>']\n",
      "5 [('title', 'xxx')]\n",
      "6 ['2016-06-11']\n",
      "7 ['2016-06-11']\n"
     ]
    }
   ],
   "source": [
    "import re\n",
    "\n",
    "# 正则表达式的正确打开方式：先用函数compile对正则表达式编译，然后使用findall函数进行查找\n",
    "\n",
    "str = 'abc123def12gh15'\n",
    "# 分组查找出字符串中一个或者多个数字字符串\n",
    "p1 = re.compile('[\\d]+')\n",
    "# 找出字符串中所有的数字\n",
    "p2 = re.compile('\\d')\n",
    "print(1,p1.findall(str))\n",
    "print(2,p2.findall(str))\n",
    "# \\t\\n\n",
    "str = 'a@163.com;b@gmail.com;c@qq.com;e0@163.com;z@qq.com'\n",
    "# 找出字符串中的邮箱，@前面是word一个或者多个，后面的是163或者qq一个或者多个最后匹配.com\n",
    "p3 = re.compile('[\\w]+@[163|qq]+\\.com')\n",
    "print(3,p3.findall(str))\n",
    "#正则表达式解析html中的内容\n",
    "str = '<html><h>title</h><body>xxx</body></html>'\n",
    "# 匹配不是已左尖开头的h标签中的内容，包括h标签\n",
    "p4 = re.compile('<h>[^<]+</h>')\n",
    "print(4,p4.findall(str))\n",
    "# 匹配括号内的表达式，也表示一个组\n",
    "p5 = re.compile('<h>([^<]+)</h><body>([^<]+)</body>')\n",
    "print(5,p5.findall(str))\n",
    "\n",
    "# 匹配时间\n",
    "# 方法一\n",
    "str = 'xx2016-06-11yy'\n",
    "p6 = re.compile('\\d\\d\\d\\d-\\d\\d-\\d\\d')\n",
    "print(6,p6.findall(str))\n",
    "# 方法二\n",
    "p7 = re.compile('\\d{4}-\\d{2}-\\d{2}')\n",
    "print(7,p7.findall(str))"
   ]
  },
  {
   "cell_type": "code",
   "execution_count": null,
   "metadata": {},
   "outputs": [],
   "source": []
  },
  {
   "cell_type": "code",
   "execution_count": null,
   "metadata": {},
   "outputs": [],
   "source": []
  },
  {
   "cell_type": "code",
   "execution_count": null,
   "metadata": {},
   "outputs": [],
   "source": []
  },
  {
   "cell_type": "code",
   "execution_count": null,
   "metadata": {},
   "outputs": [],
   "source": []
  },
  {
   "cell_type": "code",
   "execution_count": null,
   "metadata": {},
   "outputs": [],
   "source": []
  },
  {
   "cell_type": "code",
   "execution_count": null,
   "metadata": {},
   "outputs": [],
   "source": []
  },
  {
   "cell_type": "code",
   "execution_count": null,
   "metadata": {},
   "outputs": [],
   "source": []
  },
  {
   "cell_type": "code",
   "execution_count": null,
   "metadata": {},
   "outputs": [],
   "source": []
  },
  {
   "cell_type": "code",
   "execution_count": null,
   "metadata": {},
   "outputs": [],
   "source": []
  },
  {
   "cell_type": "code",
   "execution_count": null,
   "metadata": {},
   "outputs": [],
   "source": []
  },
  {
   "cell_type": "code",
   "execution_count": null,
   "metadata": {},
   "outputs": [],
   "source": []
  }
 ],
 "metadata": {
  "kernelspec": {
   "display_name": "Python 3",
   "language": "python",
   "name": "python3"
  },
  "language_info": {
   "codemirror_mode": {
    "name": "ipython",
    "version": 3
   },
   "file_extension": ".py",
   "mimetype": "text/x-python",
   "name": "python",
   "nbconvert_exporter": "python",
   "pygments_lexer": "ipython3",
   "version": "3.6.7"
  }
 },
 "nbformat": 4,
 "nbformat_minor": 2
}
